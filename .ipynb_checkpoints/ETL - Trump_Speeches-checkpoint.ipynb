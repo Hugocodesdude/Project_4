{
 "cells": [
  {
   "cell_type": "markdown",
   "id": "96a0b5d8",
   "metadata": {},
   "source": [
    "# ETL - Trump_Speeches"
   ]
  },
  {
   "cell_type": "markdown",
   "id": "12865b1b",
   "metadata": {},
   "source": [
    "## Import text files and transform into DataFrame"
   ]
  },
  {
   "cell_type": "code",
   "execution_count": 1,
   "id": "fcd20062",
   "metadata": {},
   "outputs": [],
   "source": [
    "import os\n",
    "\n",
    "import json\n",
    "import requests\n",
    "\n",
    "\n",
    "from functools import reduce\n",
    "import operator\n",
    "\n",
    "import pandas as pd\n",
    "import numpy as np"
   ]
  },
  {
   "cell_type": "code",
   "execution_count": 2,
   "id": "cb96a07d",
   "metadata": {},
   "outputs": [
    {
     "ename": "IndentationError",
     "evalue": "expected an indented block (3261516418.py, line 9)",
     "output_type": "error",
     "traceback": [
      "\u001b[0;36m  Input \u001b[0;32mIn [2]\u001b[0;36m\u001b[0m\n\u001b[0;31m    append.file.endswith(\".txt\").file_list\u001b[0m\n\u001b[0m    ^\u001b[0m\n\u001b[0;31mIndentationError\u001b[0m\u001b[0;31m:\u001b[0m expected an indented block\n"
     ]
    }
   ],
   "source": [
    "def read_text_file(file_path):\n",
    "  \n",
    "    file_list = []\n",
    "        # iterate through all file\n",
    "    for file in os.listdir(file_path):\n",
    "        # Check whether file is in text format or not\n",
    "        if file.endswith(\".txt\"):\n",
    "            #read_file = f\"{file_path}/{file}\"\n",
    "        append.file.endswith(\".txt\").file_list\n",
    "\n",
    "            # call read text file function\n",
    "            with open(read_file, 'r') as f:\n",
    "               \n",
    "            \n",
    "            #print(f.read())\n",
    "\n"
   ]
  },
  {
   "cell_type": "code",
   "execution_count": null,
   "id": "f40800e3",
   "metadata": {},
   "outputs": [],
   "source": [
    "new_l = []\n",
    "for file in os.listdir(\"./trump_speeches/\"):\n",
    "    new_l.append(file)\n",
    "new_l.remove('.DS_Store')"
   ]
  },
  {
   "cell_type": "code",
   "execution_count": null,
   "id": "03e875b6",
   "metadata": {},
   "outputs": [],
   "source": [
    "new_l"
   ]
  },
  {
   "cell_type": "code",
   "execution_count": null,
   "id": "334cf438",
   "metadata": {},
   "outputs": [],
   "source": [
    "# for loop through the list\n",
    "# for each element:\n",
    "#     1. Copy file path\n",
    "#     2. Strip string of .txt\n",
    "#     3. Split the string >> '--'\n",
    "#     4. "
   ]
  },
  {
   "cell_type": "code",
   "execution_count": 3,
   "id": "44da0c37",
   "metadata": {},
   "outputs": [],
   "source": [
    "def txt_cleaner(files_list):\n",
    "    new_list = []\n",
    "    new_dict = {}\n",
    "    for element in files_list:\n",
    "        path = f'./trump_speeches/{element}'\n",
    "        element = element.strip('.txt')\n",
    "        loc, date = element.split('--')\n",
    "        new_dict = {\n",
    "            'location':loc,\n",
    "            'date':date,\n",
    "            'path':path\n",
    "             }\n",
    "        new_list.append(new_dict)\n",
    "    return new_list"
   ]
  },
  {
   "cell_type": "code",
   "execution_count": 4,
   "id": "b1eb6ad9",
   "metadata": {},
   "outputs": [
    {
     "ename": "NameError",
     "evalue": "name 'new_l' is not defined",
     "output_type": "error",
     "traceback": [
      "\u001b[0;31m---------------------------------------------------------------------------\u001b[0m",
      "\u001b[0;31mNameError\u001b[0m                                 Traceback (most recent call last)",
      "Input \u001b[0;32mIn [4]\u001b[0m, in \u001b[0;36m<cell line: 1>\u001b[0;34m()\u001b[0m\n\u001b[0;32m----> 1\u001b[0m var \u001b[38;5;241m=\u001b[39m txt_cleaner(\u001b[43mnew_l\u001b[49m)\n\u001b[1;32m      2\u001b[0m var\n",
      "\u001b[0;31mNameError\u001b[0m: name 'new_l' is not defined"
     ]
    }
   ],
   "source": [
    "var = txt_cleaner(new_l)\n",
    "var"
   ]
  },
  {
   "cell_type": "code",
   "execution_count": 5,
   "id": "9d555bc9",
   "metadata": {},
   "outputs": [],
   "source": [
    "def text_add(list_dictionary):\n",
    "    new_list = []\n",
    "    for dictionary in list_dictionary:\n",
    "        path = dictionary['path']\n",
    "        with open(path, 'r') as f:\n",
    "            ola = f.read()\n",
    "            dictionary['speech'] = ola\n",
    "        new_list.append(dictionary)\n",
    "        \n",
    "    return new_list"
   ]
  },
  {
   "cell_type": "code",
   "execution_count": 6,
   "id": "da76be65",
   "metadata": {},
   "outputs": [
    {
     "ename": "NameError",
     "evalue": "name 'var' is not defined",
     "output_type": "error",
     "traceback": [
      "\u001b[0;31m---------------------------------------------------------------------------\u001b[0m",
      "\u001b[0;31mNameError\u001b[0m                                 Traceback (most recent call last)",
      "Input \u001b[0;32mIn [6]\u001b[0m, in \u001b[0;36m<cell line: 1>\u001b[0;34m()\u001b[0m\n\u001b[0;32m----> 1\u001b[0m aux \u001b[38;5;241m=\u001b[39m text_add(\u001b[43mvar\u001b[49m)\n",
      "\u001b[0;31mNameError\u001b[0m: name 'var' is not defined"
     ]
    }
   ],
   "source": [
    "aux = text_add(var)\n"
   ]
  },
  {
   "cell_type": "code",
   "execution_count": 7,
   "id": "8bd747c4",
   "metadata": {},
   "outputs": [
    {
     "ename": "NameError",
     "evalue": "name 'aux' is not defined",
     "output_type": "error",
     "traceback": [
      "\u001b[0;31m---------------------------------------------------------------------------\u001b[0m",
      "\u001b[0;31mNameError\u001b[0m                                 Traceback (most recent call last)",
      "Input \u001b[0;32mIn [7]\u001b[0m, in \u001b[0;36m<cell line: 1>\u001b[0;34m()\u001b[0m\n\u001b[0;32m----> 1\u001b[0m trump_speech_df \u001b[38;5;241m=\u001b[39m pd\u001b[38;5;241m.\u001b[39mDataFrame\u001b[38;5;241m.\u001b[39mfrom_dict(\u001b[43maux\u001b[49m)\n\u001b[1;32m      2\u001b[0m trump_speech_df\n",
      "\u001b[0;31mNameError\u001b[0m: name 'aux' is not defined"
     ]
    }
   ],
   "source": [
    "trump_speech_df = pd.DataFrame.from_dict(aux)\n",
    "trump_speech_df"
   ]
  },
  {
   "cell_type": "code",
   "execution_count": 8,
   "id": "60a2c8da",
   "metadata": {},
   "outputs": [
    {
     "ename": "NameError",
     "evalue": "name 'trump_speech_df' is not defined",
     "output_type": "error",
     "traceback": [
      "\u001b[0;31m---------------------------------------------------------------------------\u001b[0m",
      "\u001b[0;31mNameError\u001b[0m                                 Traceback (most recent call last)",
      "Input \u001b[0;32mIn [8]\u001b[0m, in \u001b[0;36m<cell line: 1>\u001b[0;34m()\u001b[0m\n\u001b[0;32m----> 1\u001b[0m \u001b[43mtrump_speech_df\u001b[49m\u001b[38;5;241m.\u001b[39mto_csv(\u001b[38;5;124m\"\u001b[39m\u001b[38;5;124m./trump_speech_df.csv\u001b[39m\u001b[38;5;124m\"\u001b[39m, index\u001b[38;5;241m=\u001b[39m\u001b[38;5;28;01mFalse\u001b[39;00m)\n",
      "\u001b[0;31mNameError\u001b[0m: name 'trump_speech_df' is not defined"
     ]
    }
   ],
   "source": [
    "trump_speech_df.to_csv(\"./trump_speech_df.csv\", index=False)"
   ]
  },
  {
   "cell_type": "code",
   "execution_count": 9,
   "id": "4fdfd42e",
   "metadata": {},
   "outputs": [
    {
     "ename": "NameError",
     "evalue": "name 'trump_speech_df' is not defined",
     "output_type": "error",
     "traceback": [
      "\u001b[0;31m---------------------------------------------------------------------------\u001b[0m",
      "\u001b[0;31mNameError\u001b[0m                                 Traceback (most recent call last)",
      "Input \u001b[0;32mIn [9]\u001b[0m, in \u001b[0;36m<cell line: 1>\u001b[0;34m()\u001b[0m\n\u001b[0;32m----> 1\u001b[0m \u001b[43mtrump_speech_df\u001b[49m[\u001b[38;5;124m'\u001b[39m\u001b[38;5;124mspeech\u001b[39m\u001b[38;5;124m'\u001b[39m]\u001b[38;5;241m.\u001b[39mshow\n",
      "\u001b[0;31mNameError\u001b[0m: name 'trump_speech_df' is not defined"
     ]
    }
   ],
   "source": [
    "trump_speech_df['speech'].show"
   ]
  },
  {
   "cell_type": "markdown",
   "id": "51626c07",
   "metadata": {},
   "source": [
    "## Natural Language Processing (NLP)"
   ]
  },
  {
   "cell_type": "code",
   "execution_count": null,
   "id": "75e33281",
   "metadata": {},
   "outputs": [],
   "source": [
    "# Data management\n",
    "import pandas as pd\n",
    "import string\n",
    "\n",
    "# Databases\n",
    "import sqlalchemy as alch\n",
    "from getpass import getpass\n",
    "from pymongo import MongoClient\n",
    "\n",
    "# Languages\n",
    "import re\n",
    "\n",
    "import spacy\n",
    "import es_core_news_sm\n",
    "\n",
    "import nltk\n",
    "from nltk.sentiment.vader import SentimentIntensityAnalyzer\n",
    "from nltk.corpus import stopwords\n",
    "\n",
    "from wordcloud import WordCloud\n",
    "from langdetect import detect\n",
    "from textblob import TextBlob\n",
    "\n",
    "# Visualization\n",
    "import plotly.express as px\n",
    "import plotly.graph_objects as go\n",
    "import matplotlib.pyplot as plt\n",
    "%matplotlib inline"
   ]
  },
  {
   "cell_type": "code",
   "execution_count": null,
   "id": "cb2b39fa",
   "metadata": {},
   "outputs": [],
   "source": []
  },
  {
   "cell_type": "code",
   "execution_count": null,
   "id": "baf17ae7",
   "metadata": {},
   "outputs": [],
   "source": [
    "#path = './trump_speeches/BattleCreek--Dec19_2019.txt'"
   ]
  },
  {
   "cell_type": "code",
   "execution_count": null,
   "id": "5408259a",
   "metadata": {},
   "outputs": [],
   "source": [
    "#with open('./trump_speeches/BattleCreek--Dec19_2019.txt', 'r') as f:\n",
    "   # ola = f.read()"
   ]
  }
 ],
 "metadata": {
  "kernelspec": {
   "display_name": "ironhack",
   "language": "python",
   "name": "ironhack"
  },
  "language_info": {
   "codemirror_mode": {
    "name": "ipython",
    "version": 3
   },
   "file_extension": ".py",
   "mimetype": "text/x-python",
   "name": "python",
   "nbconvert_exporter": "python",
   "pygments_lexer": "ipython3",
   "version": "3.9.13"
  }
 },
 "nbformat": 4,
 "nbformat_minor": 5
}
